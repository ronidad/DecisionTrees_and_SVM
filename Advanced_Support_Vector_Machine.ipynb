{
  "cells": [
    {
      "cell_type": "markdown",
      "metadata": {
        "id": "Zx5FNayGz-yF"
      },
      "source": [
        "<font color=green>To start working on this notebook, or any other notebook that we will use in the Moringa Data Science Course, we will need to save our own copy of it. We can do this by clicking File > Save a Copy in Drive. We will then be able to make edits to our own copy of this notebook.</font>"
      ]
    },
    {
      "cell_type": "markdown",
      "metadata": {
        "id": "O-E6klLe7hnf"
      },
      "source": [
        "# Python Programming: Advanced SVM "
      ]
    },
    {
      "cell_type": "markdown",
      "metadata": {
        "id": "8iR3uYfB83ME"
      },
      "source": [
        "## Importing Libraries"
      ]
    },
    {
      "cell_type": "code",
      "execution_count": 1,
      "metadata": {
        "id": "q_VJNdYE9BqU"
      },
      "outputs": [],
      "source": [
        "import numpy as np\n",
        "import pandas as pd\n",
        "import matplotlib.pyplot as plt\n",
        "import seaborn as sns; sns.set(font_scale=1.2)\n",
        "from sklearn.svm import SVC\n",
        "from sklearn.decomposition import PCA\n",
        "from sklearn.model_selection import train_test_split\n",
        "from sklearn.metrics import confusion_matrix,accuracy_score"
      ]
    },
    {
      "cell_type": "markdown",
      "metadata": {
        "id": "KZtYrsBp8A9V"
      },
      "source": [
        "## Example: Recipe Classification (with multiple classes: 3 classes) "
      ]
    },
    {
      "cell_type": "markdown",
      "metadata": {
        "id": "2g8wF_y_9avg"
      },
      "source": [
        "Let's revisit the recipe classification example we had in the previous session. Instead of classifying two classes, we are going to classify 3 classes, which are muffins, cupcakes and scones."
      ]
    },
    {
      "cell_type": "code",
      "execution_count": 2,
      "metadata": {
        "id": "BUasWoVH_6iJ"
      },
      "outputs": [
        {
          "data": {
            "text/html": [
              "<div>\n",
              "<style scoped>\n",
              "    .dataframe tbody tr th:only-of-type {\n",
              "        vertical-align: middle;\n",
              "    }\n",
              "\n",
              "    .dataframe tbody tr th {\n",
              "        vertical-align: top;\n",
              "    }\n",
              "\n",
              "    .dataframe thead th {\n",
              "        text-align: right;\n",
              "    }\n",
              "</style>\n",
              "<table border=\"1\" class=\"dataframe\">\n",
              "  <thead>\n",
              "    <tr style=\"text-align: right;\">\n",
              "      <th></th>\n",
              "      <th>Type</th>\n",
              "      <th>Flour</th>\n",
              "      <th>Milk</th>\n",
              "      <th>Sugar</th>\n",
              "      <th>Butter</th>\n",
              "      <th>Egg</th>\n",
              "      <th>Baking Powder</th>\n",
              "      <th>Vanilla</th>\n",
              "      <th>Salt</th>\n",
              "    </tr>\n",
              "  </thead>\n",
              "  <tbody>\n",
              "    <tr>\n",
              "      <th>0</th>\n",
              "      <td>Muffin</td>\n",
              "      <td>55</td>\n",
              "      <td>28</td>\n",
              "      <td>3</td>\n",
              "      <td>7</td>\n",
              "      <td>5</td>\n",
              "      <td>2</td>\n",
              "      <td>0</td>\n",
              "      <td>0</td>\n",
              "    </tr>\n",
              "    <tr>\n",
              "      <th>1</th>\n",
              "      <td>Muffin</td>\n",
              "      <td>47</td>\n",
              "      <td>24</td>\n",
              "      <td>12</td>\n",
              "      <td>6</td>\n",
              "      <td>9</td>\n",
              "      <td>1</td>\n",
              "      <td>0</td>\n",
              "      <td>0</td>\n",
              "    </tr>\n",
              "    <tr>\n",
              "      <th>2</th>\n",
              "      <td>Muffin</td>\n",
              "      <td>47</td>\n",
              "      <td>23</td>\n",
              "      <td>18</td>\n",
              "      <td>6</td>\n",
              "      <td>4</td>\n",
              "      <td>1</td>\n",
              "      <td>0</td>\n",
              "      <td>0</td>\n",
              "    </tr>\n",
              "    <tr>\n",
              "      <th>3</th>\n",
              "      <td>Muffin</td>\n",
              "      <td>45</td>\n",
              "      <td>11</td>\n",
              "      <td>17</td>\n",
              "      <td>17</td>\n",
              "      <td>8</td>\n",
              "      <td>1</td>\n",
              "      <td>0</td>\n",
              "      <td>0</td>\n",
              "    </tr>\n",
              "    <tr>\n",
              "      <th>4</th>\n",
              "      <td>Muffin</td>\n",
              "      <td>50</td>\n",
              "      <td>25</td>\n",
              "      <td>12</td>\n",
              "      <td>6</td>\n",
              "      <td>5</td>\n",
              "      <td>2</td>\n",
              "      <td>1</td>\n",
              "      <td>0</td>\n",
              "    </tr>\n",
              "    <tr>\n",
              "      <th>5</th>\n",
              "      <td>Muffin</td>\n",
              "      <td>55</td>\n",
              "      <td>27</td>\n",
              "      <td>3</td>\n",
              "      <td>7</td>\n",
              "      <td>5</td>\n",
              "      <td>2</td>\n",
              "      <td>1</td>\n",
              "      <td>0</td>\n",
              "    </tr>\n",
              "    <tr>\n",
              "      <th>6</th>\n",
              "      <td>Muffin</td>\n",
              "      <td>54</td>\n",
              "      <td>27</td>\n",
              "      <td>7</td>\n",
              "      <td>5</td>\n",
              "      <td>5</td>\n",
              "      <td>2</td>\n",
              "      <td>0</td>\n",
              "      <td>0</td>\n",
              "    </tr>\n",
              "    <tr>\n",
              "      <th>7</th>\n",
              "      <td>Muffin</td>\n",
              "      <td>47</td>\n",
              "      <td>26</td>\n",
              "      <td>10</td>\n",
              "      <td>10</td>\n",
              "      <td>4</td>\n",
              "      <td>1</td>\n",
              "      <td>0</td>\n",
              "      <td>0</td>\n",
              "    </tr>\n",
              "    <tr>\n",
              "      <th>8</th>\n",
              "      <td>Muffin</td>\n",
              "      <td>50</td>\n",
              "      <td>17</td>\n",
              "      <td>17</td>\n",
              "      <td>8</td>\n",
              "      <td>6</td>\n",
              "      <td>1</td>\n",
              "      <td>0</td>\n",
              "      <td>0</td>\n",
              "    </tr>\n",
              "    <tr>\n",
              "      <th>9</th>\n",
              "      <td>Muffin</td>\n",
              "      <td>50</td>\n",
              "      <td>17</td>\n",
              "      <td>17</td>\n",
              "      <td>11</td>\n",
              "      <td>4</td>\n",
              "      <td>1</td>\n",
              "      <td>0</td>\n",
              "      <td>0</td>\n",
              "    </tr>\n",
              "    <tr>\n",
              "      <th>10</th>\n",
              "      <td>Cupcake</td>\n",
              "      <td>39</td>\n",
              "      <td>0</td>\n",
              "      <td>26</td>\n",
              "      <td>19</td>\n",
              "      <td>14</td>\n",
              "      <td>1</td>\n",
              "      <td>1</td>\n",
              "      <td>0</td>\n",
              "    </tr>\n",
              "    <tr>\n",
              "      <th>11</th>\n",
              "      <td>Cupcake</td>\n",
              "      <td>42</td>\n",
              "      <td>21</td>\n",
              "      <td>16</td>\n",
              "      <td>10</td>\n",
              "      <td>8</td>\n",
              "      <td>3</td>\n",
              "      <td>0</td>\n",
              "      <td>0</td>\n",
              "    </tr>\n",
              "    <tr>\n",
              "      <th>12</th>\n",
              "      <td>Cupcake</td>\n",
              "      <td>34</td>\n",
              "      <td>17</td>\n",
              "      <td>20</td>\n",
              "      <td>20</td>\n",
              "      <td>5</td>\n",
              "      <td>2</td>\n",
              "      <td>1</td>\n",
              "      <td>0</td>\n",
              "    </tr>\n",
              "    <tr>\n",
              "      <th>13</th>\n",
              "      <td>Cupcake</td>\n",
              "      <td>39</td>\n",
              "      <td>13</td>\n",
              "      <td>17</td>\n",
              "      <td>19</td>\n",
              "      <td>10</td>\n",
              "      <td>1</td>\n",
              "      <td>1</td>\n",
              "      <td>0</td>\n",
              "    </tr>\n",
              "    <tr>\n",
              "      <th>14</th>\n",
              "      <td>Cupcake</td>\n",
              "      <td>38</td>\n",
              "      <td>15</td>\n",
              "      <td>23</td>\n",
              "      <td>15</td>\n",
              "      <td>8</td>\n",
              "      <td>0</td>\n",
              "      <td>1</td>\n",
              "      <td>0</td>\n",
              "    </tr>\n",
              "    <tr>\n",
              "      <th>15</th>\n",
              "      <td>Cupcake</td>\n",
              "      <td>42</td>\n",
              "      <td>18</td>\n",
              "      <td>25</td>\n",
              "      <td>9</td>\n",
              "      <td>5</td>\n",
              "      <td>1</td>\n",
              "      <td>0</td>\n",
              "      <td>0</td>\n",
              "    </tr>\n",
              "    <tr>\n",
              "      <th>16</th>\n",
              "      <td>Cupcake</td>\n",
              "      <td>36</td>\n",
              "      <td>14</td>\n",
              "      <td>21</td>\n",
              "      <td>14</td>\n",
              "      <td>11</td>\n",
              "      <td>2</td>\n",
              "      <td>1</td>\n",
              "      <td>0</td>\n",
              "    </tr>\n",
              "    <tr>\n",
              "      <th>17</th>\n",
              "      <td>Cupcake</td>\n",
              "      <td>38</td>\n",
              "      <td>15</td>\n",
              "      <td>31</td>\n",
              "      <td>8</td>\n",
              "      <td>6</td>\n",
              "      <td>1</td>\n",
              "      <td>1</td>\n",
              "      <td>0</td>\n",
              "    </tr>\n",
              "    <tr>\n",
              "      <th>18</th>\n",
              "      <td>Cupcake</td>\n",
              "      <td>36</td>\n",
              "      <td>16</td>\n",
              "      <td>24</td>\n",
              "      <td>12</td>\n",
              "      <td>9</td>\n",
              "      <td>1</td>\n",
              "      <td>1</td>\n",
              "      <td>0</td>\n",
              "    </tr>\n",
              "    <tr>\n",
              "      <th>19</th>\n",
              "      <td>Cupcake</td>\n",
              "      <td>34</td>\n",
              "      <td>17</td>\n",
              "      <td>23</td>\n",
              "      <td>11</td>\n",
              "      <td>13</td>\n",
              "      <td>0</td>\n",
              "      <td>1</td>\n",
              "      <td>0</td>\n",
              "    </tr>\n",
              "    <tr>\n",
              "      <th>20</th>\n",
              "      <td>Scone</td>\n",
              "      <td>29</td>\n",
              "      <td>3</td>\n",
              "      <td>46</td>\n",
              "      <td>6</td>\n",
              "      <td>0</td>\n",
              "      <td>11</td>\n",
              "      <td>0</td>\n",
              "      <td>6</td>\n",
              "    </tr>\n",
              "    <tr>\n",
              "      <th>21</th>\n",
              "      <td>Scone</td>\n",
              "      <td>19</td>\n",
              "      <td>3</td>\n",
              "      <td>36</td>\n",
              "      <td>3</td>\n",
              "      <td>14</td>\n",
              "      <td>7</td>\n",
              "      <td>14</td>\n",
              "      <td>5</td>\n",
              "    </tr>\n",
              "    <tr>\n",
              "      <th>22</th>\n",
              "      <td>Scone</td>\n",
              "      <td>20</td>\n",
              "      <td>5</td>\n",
              "      <td>52</td>\n",
              "      <td>5</td>\n",
              "      <td>10</td>\n",
              "      <td>3</td>\n",
              "      <td>0</td>\n",
              "      <td>5</td>\n",
              "    </tr>\n",
              "    <tr>\n",
              "      <th>23</th>\n",
              "      <td>Scone</td>\n",
              "      <td>19</td>\n",
              "      <td>6</td>\n",
              "      <td>50</td>\n",
              "      <td>5</td>\n",
              "      <td>6</td>\n",
              "      <td>10</td>\n",
              "      <td>0</td>\n",
              "      <td>3</td>\n",
              "    </tr>\n",
              "    <tr>\n",
              "      <th>24</th>\n",
              "      <td>Scone</td>\n",
              "      <td>19</td>\n",
              "      <td>10</td>\n",
              "      <td>51</td>\n",
              "      <td>5</td>\n",
              "      <td>0</td>\n",
              "      <td>10</td>\n",
              "      <td>0</td>\n",
              "      <td>5</td>\n",
              "    </tr>\n",
              "  </tbody>\n",
              "</table>\n",
              "</div>"
            ],
            "text/plain": [
              "       Type  Flour  Milk  Sugar  Butter  Egg  Baking Powder  Vanilla  Salt\n",
              "0    Muffin     55    28      3       7    5              2        0     0\n",
              "1    Muffin     47    24     12       6    9              1        0     0\n",
              "2    Muffin     47    23     18       6    4              1        0     0\n",
              "3    Muffin     45    11     17      17    8              1        0     0\n",
              "4    Muffin     50    25     12       6    5              2        1     0\n",
              "5    Muffin     55    27      3       7    5              2        1     0\n",
              "6    Muffin     54    27      7       5    5              2        0     0\n",
              "7    Muffin     47    26     10      10    4              1        0     0\n",
              "8    Muffin     50    17     17       8    6              1        0     0\n",
              "9    Muffin     50    17     17      11    4              1        0     0\n",
              "10  Cupcake     39     0     26      19   14              1        1     0\n",
              "11  Cupcake     42    21     16      10    8              3        0     0\n",
              "12  Cupcake     34    17     20      20    5              2        1     0\n",
              "13  Cupcake     39    13     17      19   10              1        1     0\n",
              "14  Cupcake     38    15     23      15    8              0        1     0\n",
              "15  Cupcake     42    18     25       9    5              1        0     0\n",
              "16  Cupcake     36    14     21      14   11              2        1     0\n",
              "17  Cupcake     38    15     31       8    6              1        1     0\n",
              "18  Cupcake     36    16     24      12    9              1        1     0\n",
              "19  Cupcake     34    17     23      11   13              0        1     0\n",
              "20    Scone     29     3     46       6    0             11        0     6\n",
              "21    Scone     19     3     36       3   14              7       14     5\n",
              "22    Scone     20     5     52       5   10              3        0     5\n",
              "23    Scone     19     6     50       5    6             10        0     3\n",
              "24    Scone     19    10     51       5    0             10        0     5"
            ]
          },
          "execution_count": 2,
          "metadata": {},
          "output_type": "execute_result"
        }
      ],
      "source": [
        "# Loading data\n",
        "recipes = pd.read_csv('http://bit.ly/muffins_cupcakes_scone')\n",
        "recipes"
      ]
    },
    {
      "cell_type": "code",
      "execution_count": 3,
      "metadata": {
        "id": "RVJJvofgAj91"
      },
      "outputs": [
        {
          "name": "stderr",
          "output_type": "stream",
          "text": [
            "C:\\Users\\ronal\\anaconda3\\lib\\site-packages\\seaborn\\_decorators.py:36: FutureWarning: Pass the following variables as keyword args: x, y. From version 0.12, the only valid positional argument will be `data`, and passing other arguments without an explicit keyword will result in an error or misinterpretation.\n",
            "  warnings.warn(\n"
          ]
        },
        {
          "data": {
            "text/plain": [
              "<seaborn.axisgrid.FacetGrid at 0x1e687b78880>"
            ]
          },
          "execution_count": 3,
          "metadata": {},
          "output_type": "execute_result"
        },
        {
          "data": {
            "image/png": "[encoded data removed]",
            "text/plain": [
              "<Figure size 459.77x360 with 1 Axes>"
            ]
          },
          "metadata": {},
          "output_type": "display_data"
        }
      ],
      "source": [
        "# Plotting our desired features\n",
        "sns.lmplot('Flour','Butter', data=recipes, hue='Type', palette='Set1', fit_reg=False, scatter_kws={\"s\": 70})\n"
      ]
    },
    {
      "cell_type": "markdown",
      "metadata": {
        "id": "JYnX-BqTA9V7"
      },
      "source": [
        "**Fitting the Model**"
      ]
    },
    {
      "cell_type": "code",
      "execution_count": 7,
      "metadata": {
        "id": "BsdhcPzMBVLa"
      },
      "outputs": [
        {
          "name": "stdout",
          "output_type": "stream",
          "text": [
            "0     1\n",
            "1     1\n",
            "2     1\n",
            "3     1\n",
            "4     1\n",
            "5     1\n",
            "6     1\n",
            "7     1\n",
            "8     1\n",
            "9     1\n",
            "10    0\n",
            "11    0\n",
            "12    0\n",
            "13    0\n",
            "14    0\n",
            "15    0\n",
            "16    0\n",
            "17    0\n",
            "18    0\n",
            "19    0\n",
            "20    2\n",
            "21    2\n",
            "22    2\n",
            "23    2\n",
            "24    2\n",
            "dtype: int8\n"
          ]
        }
      ],
      "source": [
        "# Specify the input for the model\n",
        "sugar_butter = recipes[['Flour', 'Butter']].values\n",
        "\n",
        "# Convert the data type for 'Type' column from object to category\n",
        "recipes['Type'] = recipes['Type'].astype('category')\n",
        "\n",
        "# Convert each value in the 'Type' column into a number. This will be our target column\n",
        "type_label =recipes['Type'].cat.codes\n",
        "print(type_label)\n",
        "\n",
        "\n",
        "# Fit the model\n",
        "model = SVC(kernel= 'linear')\n",
        "clf_model = model.fit(sugar_butter,type_label)\n",
        "\n"
      ]
    },
    {
      "cell_type": "markdown",
      "metadata": {
        "id": "RlYt9gpAFSQu"
      },
      "source": [
        "**Visualization**"
      ]
    },
    {
      "cell_type": "code",
      "execution_count": 8,
      "metadata": {
        "id": "bpR5wFkaSdk2"
      },
      "outputs": [
        {
          "data": {
            "image/png": "[encoded data removed]",
            "text/plain": [
              "<Figure size 432x288 with 1 Axes>"
            ]
          },
          "metadata": {},
          "output_type": "display_data"
        }
      ],
      "source": [
        "\n",
        "\n",
        "\n",
        "\n",
        "\n",
        "# Create a mesh grid for our graph\n",
        "def make_meshgrid(x, y, h=.02):\n",
        "    x_min, x_max = x.min() - 1, x.max() + 1\n",
        "    y_min, y_max = y.min() - 1, y.max() + 1\n",
        "    xx, yy = np.meshgrid(np.arange(x_min, x_max, h), np.arange(y_min, y_max, h))\n",
        "    return xx, yy\n",
        "\n",
        "# A function that creates the hyperplanes from our model\n",
        "def plot_contours(ax, clf, xx, yy, **params):\n",
        "    Z = clf_model.predict(np.c_[xx.ravel(), yy.ravel()])\n",
        "    Z = Z.reshape(xx.shape)\n",
        "    out = ax.contourf(xx, yy, Z, **params)\n",
        "    return out\n",
        "\n",
        "fig, ax = plt.subplots()\n",
        "# title for the plots\n",
        "title = ('Recipe Classification with linear SVC')\n",
        "# Set-up grid for plotting.\n",
        "X0, X1 = sugar_butter[:, 0], sugar_butter[:, 1]\n",
        "xx, yy = make_meshgrid(X0, X1)\n",
        "\n",
        "plot_contours(ax, clf_model, xx, yy, cmap=plt.cm.coolwarm, alpha=0.8)\n",
        "ax.scatter(X0, X1, c=type_label, cmap=plt.cm.coolwarm, s=20, edgecolors='k')\n",
        "ax.set_ylabel('Butter')\n",
        "ax.set_xlabel('Flour')\n",
        "ax.set_xticks(())\n",
        "ax.set_yticks(())\n",
        "ax.set_title(title)\n",
        "plt.show()"
      ]
    },
    {
      "cell_type": "markdown",
      "metadata": {
        "id": "C1lWBN6tMkqB"
      },
      "source": [
        "**Prediction**"
      ]
    },
    {
      "cell_type": "code",
      "execution_count": 9,
      "metadata": {
        "id": "Cb7xeB51NfXW"
      },
      "outputs": [
        {
          "name": "stdout",
          "output_type": "stream",
          "text": [
            "You're looking at a muffin recipe!\n"
          ]
        }
      ],
      "source": [
        "# FUnction that predict whether a recipe is a muffin, cupcake or a scone\n",
        "def muffin_or_cupcake(flour, sugar):\n",
        "    if(model.predict([[flour, sugar]]))==0:\n",
        "        print('You\\'re looking at a cupcake recipe!')\n",
        "    elif(model.predict([[flour,sugar]]))==1:\n",
        "        print('You\\'re looking at a muffin recipe!')\n",
        "    else:\n",
        "      print('You\\'re looking at a scone recipe!')\n",
        "\n",
        "# Predict if 60 parts flour and 30 parts butter\n",
        "muffin_or_cupcake(60, 30)"
      ]
    },
    {
      "cell_type": "markdown",
      "metadata": {
        "id": "cgSmMeTQQuDI"
      },
      "source": [
        "## Example 2: Flower Classification (with multiple classes and Kernel trick)"
      ]
    },
    {
      "cell_type": "markdown",
      "metadata": {
        "id": "nyF3r02HS2bW"
      },
      "source": [
        "In this example we are use the all ffamous Iris dataset to classify flowers into 3 classes; Setosa, Versicolor and Virginica. We are also going to implement SVM using 3 kernel functions; polynomial, radial basis function (rbf) and sigmoid. Finally, we are going to do a comparison of the kernel performance.\n",
        "Well,let's get into it!!"
      ]
    },
    {
      "cell_type": "code",
      "execution_count": 10,
      "metadata": {
        "id": "sW_KvDM_avjW"
      },
      "outputs": [
        {
          "data": {
            "text/html": [
              "<div>\n",
              "<style scoped>\n",
              "    .dataframe tbody tr th:only-of-type {\n",
              "        vertical-align: middle;\n",
              "    }\n",
              "\n",
              "    .dataframe tbody tr th {\n",
              "        vertical-align: top;\n",
              "    }\n",
              "\n",
              "    .dataframe thead th {\n",
              "        text-align: right;\n",
              "    }\n",
              "</style>\n",
              "<table border=\"1\" class=\"dataframe\">\n",
              "  <thead>\n",
              "    <tr style=\"text-align: right;\">\n",
              "      <th></th>\n",
              "      <th>sepal-length</th>\n",
              "      <th>sepal-width</th>\n",
              "      <th>petal-length</th>\n",
              "      <th>petal-width</th>\n",
              "      <th>Class</th>\n",
              "    </tr>\n",
              "  </thead>\n",
              "  <tbody>\n",
              "    <tr>\n",
              "      <th>0</th>\n",
              "      <td>5.1</td>\n",
              "      <td>3.5</td>\n",
              "      <td>1.4</td>\n",
              "      <td>0.2</td>\n",
              "      <td>Iris-setosa</td>\n",
              "    </tr>\n",
              "    <tr>\n",
              "      <th>1</th>\n",
              "      <td>4.9</td>\n",
              "      <td>3.0</td>\n",
              "      <td>1.4</td>\n",
              "      <td>0.2</td>\n",
              "      <td>Iris-setosa</td>\n",
              "    </tr>\n",
              "    <tr>\n",
              "      <th>2</th>\n",
              "      <td>4.7</td>\n",
              "      <td>3.2</td>\n",
              "      <td>1.3</td>\n",
              "      <td>0.2</td>\n",
              "      <td>Iris-setosa</td>\n",
              "    </tr>\n",
              "    <tr>\n",
              "      <th>3</th>\n",
              "      <td>4.6</td>\n",
              "      <td>3.1</td>\n",
              "      <td>1.5</td>\n",
              "      <td>0.2</td>\n",
              "      <td>Iris-setosa</td>\n",
              "    </tr>\n",
              "    <tr>\n",
              "      <th>4</th>\n",
              "      <td>5.0</td>\n",
              "      <td>3.6</td>\n",
              "      <td>1.4</td>\n",
              "      <td>0.2</td>\n",
              "      <td>Iris-setosa</td>\n",
              "    </tr>\n",
              "  </tbody>\n",
              "</table>\n",
              "</div>"
            ],
            "text/plain": [
              "   sepal-length  sepal-width  petal-length  petal-width        Class\n",
              "0           5.1          3.5           1.4          0.2  Iris-setosa\n",
              "1           4.9          3.0           1.4          0.2  Iris-setosa\n",
              "2           4.7          3.2           1.3          0.2  Iris-setosa\n",
              "3           4.6          3.1           1.5          0.2  Iris-setosa\n",
              "4           5.0          3.6           1.4          0.2  Iris-setosa"
            ]
          },
          "execution_count": 10,
          "metadata": {},
          "output_type": "execute_result"
        }
      ],
      "source": [
        "# Loading data\n",
        "iris_data = pd.read_csv('http://bit.ly/Iris_flower_data')\n",
        "iris_data.head()"
      ]
    },
    {
      "cell_type": "markdown",
      "metadata": {
        "id": "VLzFQcVddHxO"
      },
      "source": [
        "**Data Exploration**"
      ]
    },
    {
      "cell_type": "code",
      "execution_count": 12,
      "metadata": {
        "colab": {
          "base_uri": "https://localhost:8080/",
          "height": 34
        },
        "id": "bJUsyWU2dO-L",
        "outputId": "a31ec151-5237-4f62-f07e-23ed4003d139"
      },
      "outputs": [
        {
          "data": {
            "text/plain": [
              "array([[-2.68420713,  0.32660731],\n",
              "       [-2.71539062, -0.16955685],\n",
              "       [-2.88981954, -0.13734561],\n",
              "       [-2.7464372 , -0.31112432],\n",
              "       [-2.72859298,  0.33392456],\n",
              "       [-2.27989736,  0.74778271],\n",
              "       [-2.82089068, -0.08210451],\n",
              "       [-2.62648199,  0.17040535],\n",
              "       [-2.88795857, -0.57079803],\n",
              "       [-2.67384469, -0.1066917 ],\n",
              "       [-2.50652679,  0.65193501],\n",
              "       [-2.61314272,  0.02152063],\n",
              "       [-2.78743398, -0.22774019],\n",
              "       [-3.22520045, -0.50327991],\n",
              "       [-2.64354322,  1.1861949 ],\n",
              "       [-2.38386932,  1.34475434],\n",
              "       [-2.6225262 ,  0.81808967],\n",
              "       [-2.64832273,  0.31913667],\n",
              "       [-2.19907796,  0.87924409],\n",
              "       [-2.58734619,  0.52047364],\n",
              "       [-2.3105317 ,  0.39786782],\n",
              "       [-2.54323491,  0.44003175],\n",
              "       [-3.21585769,  0.14161557],\n",
              "       [-2.30312854,  0.10552268],\n",
              "       [-2.35617109, -0.03120959],\n",
              "       [-2.50791723, -0.13905634],\n",
              "       [-2.469056  ,  0.13788731],\n",
              "       [-2.56239095,  0.37468456],\n",
              "       [-2.63982127,  0.31929007],\n",
              "       [-2.63284791, -0.19007583],\n",
              "       [-2.58846205, -0.19739308],\n",
              "       [-2.41007734,  0.41808001],\n",
              "       [-2.64763667,  0.81998263],\n",
              "       [-2.59715948,  1.10002193],\n",
              "       [-2.67384469, -0.1066917 ],\n",
              "       [-2.86699985,  0.0771931 ],\n",
              "       [-2.62522846,  0.60680001],\n",
              "       [-2.67384469, -0.1066917 ],\n",
              "       [-2.98184266, -0.48025005],\n",
              "       [-2.59032303,  0.23605934],\n",
              "       [-2.77013891,  0.27105942],\n",
              "       [-2.85221108, -0.93286537],\n",
              "       [-2.99829644, -0.33430757],\n",
              "       [-2.4055141 ,  0.19591726],\n",
              "       [-2.20883295,  0.44269603],\n",
              "       [-2.71566519, -0.24268148],\n",
              "       [-2.53757337,  0.51036755],\n",
              "       [-2.8403213 , -0.22057634],\n",
              "       [-2.54268576,  0.58628103],\n",
              "       [-2.70391231,  0.11501085],\n",
              "       [ 1.28479459,  0.68543919],\n",
              "       [ 0.93241075,  0.31919809],\n",
              "       [ 1.46406132,  0.50418983],\n",
              "       [ 0.18096721, -0.82560394],\n",
              "       [ 1.08713449,  0.07539039],\n",
              "       [ 0.64043675, -0.41732348],\n",
              "       [ 1.09522371,  0.28389121],\n",
              "       [-0.75146714, -1.00110751],\n",
              "       [ 1.04329778,  0.22895691],\n",
              "       [-0.01019007, -0.72057487],\n",
              "       [-0.5110862 , -1.26249195],\n",
              "       [ 0.51109806, -0.10228411],\n",
              "       [ 0.26233576, -0.5478933 ],\n",
              "       [ 0.98404455, -0.12436042],\n",
              "       [-0.174864  , -0.25181557],\n",
              "       [ 0.92757294,  0.46823621],\n",
              "       [ 0.65959279, -0.35197629],\n",
              "       [ 0.23454059, -0.33192183],\n",
              "       [ 0.94236171, -0.54182226],\n",
              "       [ 0.0432464 , -0.58148945],\n",
              "       [ 1.11624072, -0.08421401],\n",
              "       [ 0.35678657, -0.06682383],\n",
              "       [ 1.29646885, -0.32756152],\n",
              "       [ 0.92050265, -0.18239036],\n",
              "       [ 0.71400821,  0.15037915],\n",
              "       [ 0.89964086,  0.32961098],\n",
              "       [ 1.33104142,  0.24466952],\n",
              "       [ 1.55739627,  0.26739258],\n",
              "       [ 0.81245555, -0.16233157],\n",
              "       [-0.30733476, -0.36508661],\n",
              "       [-0.07034289, -0.70253793],\n",
              "       [-0.19188449, -0.67749054],\n",
              "       [ 0.13499495, -0.31170964],\n",
              "       [ 1.37873698, -0.42120514],\n",
              "       [ 0.58727485, -0.48328427],\n",
              "       [ 0.8072055 ,  0.19505396],\n",
              "       [ 1.22042897,  0.40803534],\n",
              "       [ 0.81286779, -0.370679  ],\n",
              "       [ 0.24519516, -0.26672804],\n",
              "       [ 0.16451343, -0.67966147],\n",
              "       [ 0.46303099, -0.66952655],\n",
              "       [ 0.89016045, -0.03381244],\n",
              "       [ 0.22887905, -0.40225762],\n",
              "       [-0.70708128, -1.00842476],\n",
              "       [ 0.35553304, -0.50321849],\n",
              "       [ 0.33112695, -0.21118014],\n",
              "       [ 0.37523823, -0.29162202],\n",
              "       [ 0.64169028,  0.01907118],\n",
              "       [-0.90846333, -0.75156873],\n",
              "       [ 0.29780791, -0.34701652],\n",
              "       [ 2.53172698, -0.01184224],\n",
              "       [ 1.41407223, -0.57492506],\n",
              "       [ 2.61648461,  0.34193529],\n",
              "       [ 1.97081495, -0.18112569],\n",
              "       [ 2.34975798, -0.04188255],\n",
              "       [ 3.39687992,  0.54716805],\n",
              "       [ 0.51938325, -1.19135169],\n",
              "       [ 2.9320051 ,  0.35237701],\n",
              "       [ 2.31967279, -0.24554817],\n",
              "       [ 2.91813423,  0.78038063],\n",
              "       [ 1.66193495,  0.2420384 ],\n",
              "       [ 1.80234045, -0.21615461],\n",
              "       [ 2.16537886,  0.21528028],\n",
              "       [ 1.34459422, -0.77641543],\n",
              "       [ 1.5852673 , -0.53930705],\n",
              "       [ 1.90474358,  0.11881899],\n",
              "       [ 1.94924878,  0.04073026],\n",
              "       [ 3.48876538,  1.17154454],\n",
              "       [ 3.79468686,  0.25326557],\n",
              "       [ 1.29832982, -0.76101394],\n",
              "       [ 2.42816726,  0.37678197],\n",
              "       [ 1.19809737, -0.60557896],\n",
              "       [ 3.49926548,  0.45677347],\n",
              "       [ 1.38766825, -0.20403099],\n",
              "       [ 2.27585365,  0.33338653],\n",
              "       [ 2.61419383,  0.55836695],\n",
              "       [ 1.25762518, -0.179137  ],\n",
              "       [ 1.29066965, -0.11642525],\n",
              "       [ 2.12285398, -0.21085488],\n",
              "       [ 2.3875644 ,  0.46251925],\n",
              "       [ 2.84096093,  0.37274259],\n",
              "       [ 3.2323429 ,  1.37052404],\n",
              "       [ 2.15873837, -0.21832553],\n",
              "       [ 1.4431026 , -0.14380129],\n",
              "       [ 1.77964011, -0.50146479],\n",
              "       [ 3.07652162,  0.68576444],\n",
              "       [ 2.14498686,  0.13890661],\n",
              "       [ 1.90486293,  0.04804751],\n",
              "       [ 1.16885347, -0.1645025 ],\n",
              "       [ 2.10765373,  0.37148225],\n",
              "       [ 2.31430339,  0.18260885],\n",
              "       [ 1.92245088,  0.40927118],\n",
              "       [ 1.41407223, -0.57492506],\n",
              "       [ 2.56332271,  0.2759745 ],\n",
              "       [ 2.41939122,  0.30350394],\n",
              "       [ 1.94401705,  0.18741522],\n",
              "       [ 1.52566363, -0.37502085],\n",
              "       [ 1.76404594,  0.07851919],\n",
              "       [ 1.90162908,  0.11587675],\n",
              "       [ 1.38966613, -0.28288671]])"
            ]
          },
          "execution_count": 12,
          "metadata": {},
          "output_type": "execute_result"
        }
      ],
      "source": [
        "# The way the dataset is right now, it would be difficult to plot the graph on a 2-Dimencional plane because the dataset has 4 features. \n",
        "# Therefore we need to reduce the feature by applying a reduction algorithm.\n",
        "\n",
        "# Removing the target column\n",
        "iris = iris_data.drop('Class', axis=1)\n",
        "y = iris_data['Class']\n",
        "\n",
        "# Applying the reduction algorithm: PCA\n",
        "pca = PCA(n_components=2).fit(iris)\n",
        "X = pca.transform(iris)\n",
        "X.shape\n",
        "X"
      ]
    },
    {
      "cell_type": "markdown",
      "metadata": {
        "id": "oUV-NNvEh4sk"
      },
      "source": [
        "**Split the data into train and test sets**"
      ]
    },
    {
      "cell_type": "code",
      "execution_count": 13,
      "metadata": {
        "id": "eyO1aDgQh1CG"
      },
      "outputs": [],
      "source": [
        "# Convert the data type for 'Class' column from object to category\n",
        "y = y.astype('category')\n",
        "\n",
        "# Convert each value in the 'Type' column into a number. This will be our target column\n",
        "y =y.cat.codes\n",
        "\n",
        "#  Split the data into train and test set\n",
        "X_train, X_test, y_train, y_test = train_test_split(X, y, test_size = 0.2, random_state = 0)\n"
      ]
    },
    {
      "cell_type": "markdown",
      "metadata": {
        "id": "L06N7DeEid1n"
      },
      "source": [
        "### Fitting the model: Polymomial function"
      ]
    },
    {
      "cell_type": "code",
      "execution_count": 16,
      "metadata": {
        "id": "kuv3e4Y2inrh"
      },
      "outputs": [
        {
          "data": {
            "text/plain": [
              "SVC(gamma='auto', kernel='poly')"
            ]
          },
          "execution_count": 16,
          "metadata": {},
          "output_type": "execute_result"
        }
      ],
      "source": [
        "# Building the model \n",
        "polyclassifier = SVC(kernel='poly',degree=3,gamma='auto')\n",
        "#gamma='auto_derecated'\n",
        "# Training the model using the training set\n",
        "polyclassifier.fit(X_train, y_train)"
      ]
    },
    {
      "cell_type": "markdown",
      "metadata": {
        "id": "I9Ku42Dejkp7"
      },
      "source": [
        "**Visualization**"
      ]
    },
    {
      "cell_type": "code",
      "execution_count": 17,
      "metadata": {
        "id": "B_gWkASGjrRo"
      },
      "outputs": [
        {
          "data": {
            "image/png": "[encoded data removed]",
            "text/plain": [
              "<Figure size 432x288 with 1 Axes>"
            ]
          },
          "metadata": {},
          "output_type": "display_data"
        }
      ],
      "source": [
        "# Create a mesh grid for our graph\n",
        "def make_meshgrid(x, y, h=.02):\n",
        "    x_min, x_max = x.min() - 1, x.max() + 1\n",
        "    y_min, y_max = y.min() - 1, y.max() + 1\n",
        "    xx, yy = np.meshgrid(np.arange(x_min, x_max, h), np.arange(y_min, y_max, h))\n",
        "    return xx, yy\n",
        "\n",
        "# A function that creates the hyperplanes from our model\n",
        "def plot_contours(ax, clf, xx, yy, **params):\n",
        "    Z = polyclassifier.predict(np.c_[xx.ravel(), yy.ravel()])\n",
        "    Z = Z.reshape(xx.shape)\n",
        "    out = ax.contourf(xx, yy, Z, **params)\n",
        "    return out\n",
        "\n",
        "fig, ax = plt.subplots()\n",
        "# title for the plots\n",
        "title = ('Flower Classification with polynomial SVC')\n",
        "# Set-up grid for plotting.\n",
        "X0, X1 = X[:, 0], X[:, 1]\n",
        "xx, yy = make_meshgrid(X0, X1)\n",
        "\n",
        "plot_contours(ax, polyclassifier, xx, yy, cmap=plt.cm.Paired, alpha=0.8)\n",
        "ax.scatter(X0, X1, c=y, cmap=plt.cm.Paired, s=20, edgecolors='k')\n",
        "# ax.set_ylabel()\n",
        "# ax.set_xlabel()\n",
        "ax.set_xticks(())\n",
        "ax.set_yticks(())\n",
        "ax.set_title(title)\n",
        "plt.show()"
      ]
    },
    {
      "cell_type": "markdown",
      "metadata": {
        "id": "yhBG2nmNq199"
      },
      "source": [
        "**Optimization: Parameter tuning**\n",
        "\n",
        "For non-linear kernel, we use the gamma parameter to improve the perfomance.A lower value of Gamma will loosely fit the training dataset, whereas a higher value of gamma will exactly fit the training dataset, which causes over-fitting.\n",
        "Try playing around with the value of gamma and notice what happens"
      ]
    },
    {
      "cell_type": "markdown",
      "metadata": {
        "id": "wvlg0PF4sDkG"
      },
      "source": [
        "**Making Predictions**"
      ]
    },
    {
      "cell_type": "code",
      "execution_count": 18,
      "metadata": {
        "id": "3GaEDnPisLml"
      },
      "outputs": [],
      "source": [
        "# making prediction\n",
        "y_pred = polyclassifier.predict(X_test)"
      ]
    },
    {
      "cell_type": "code",
      "execution_count": 19,
      "metadata": {
        "id": "P_zsel7-spIU"
      },
      "outputs": [
        {
          "name": "stdout",
          "output_type": "stream",
          "text": [
            "0.9666666666666667\n",
            "[[11  0  0]\n",
            " [ 0 13  0]\n",
            " [ 0  1  5]]\n"
          ]
        }
      ],
      "source": [
        "# Model Evaluation\n",
        "print( accuracy_score(y_test, y_pred))\n",
        "print(confusion_matrix(y_test, y_pred))"
      ]
    },
    {
      "cell_type": "markdown",
      "metadata": {
        "id": "ltdUiWGivA6a"
      },
      "source": [
        "### Fitting the model: Radial basis function (rbf)"
      ]
    },
    {
      "cell_type": "code",
      "execution_count": 20,
      "metadata": {
        "id": "KtraOVokvID5"
      },
      "outputs": [
        {
          "data": {
            "text/plain": [
              "SVC()"
            ]
          },
          "execution_count": 20,
          "metadata": {},
          "output_type": "execute_result"
        }
      ],
      "source": [
        "# Building the model \n",
        "rbfclassifier = SVC(kernel='rbf')\n",
        "# Training the model using the training set\n",
        "rbfclassifier.fit(X_train, y_train)"
      ]
    },
    {
      "cell_type": "markdown",
      "metadata": {
        "id": "4YlvYqfJvZjq"
      },
      "source": [
        "**Visualization**"
      ]
    },
    {
      "cell_type": "code",
      "execution_count": 21,
      "metadata": {
        "id": "77bpiZ4pveiZ"
      },
      "outputs": [
        {
          "data": {
            "image/png": "[encoded data removed]",
            "text/plain": [
              "<Figure size 432x288 with 1 Axes>"
            ]
          },
          "metadata": {},
          "output_type": "display_data"
        }
      ],
      "source": [
        "# Create a mesh grid for our graph\n",
        "def make_meshgrid(x, y, h=.02):\n",
        "    x_min, x_max = x.min() - 1, x.max() + 1\n",
        "    y_min, y_max = y.min() - 1, y.max() + 1\n",
        "    xx, yy = np.meshgrid(np.arange(x_min, x_max, h), np.arange(y_min, y_max, h))\n",
        "    return xx, yy\n",
        "\n",
        "# A function that creates the hyperplanes from our model\n",
        "def plot_contours(ax, clf, xx, yy, **params):\n",
        "    Z = rbfclassifier.predict(np.c_[xx.ravel(), yy.ravel()])\n",
        "    Z = Z.reshape(xx.shape)\n",
        "    out = ax.contourf(xx, yy, Z, **params)\n",
        "    return out\n",
        "\n",
        "fig, ax = plt.subplots()\n",
        "# title for the plots\n",
        "title = ('Flower Classification with rbf SVC')\n",
        "# Set-up grid for plotting.\n",
        "X0, X1 = X[:, 0], X[:, 1]\n",
        "xx, yy = make_meshgrid(X0, X1)\n",
        "\n",
        "plot_contours(ax, rbfclassifier, xx, yy, cmap=plt.cm.autumn, alpha=0.8)\n",
        "ax.scatter(X0, X1, c=y, cmap=plt.cm.autumn, s=20, edgecolors='k')\n",
        "\n",
        "ax.set_xticks(())\n",
        "ax.set_yticks(())\n",
        "ax.set_title(title)\n",
        "plt.show()"
      ]
    },
    {
      "cell_type": "markdown",
      "metadata": {
        "id": "yqyvZTm3wIIz"
      },
      "source": [
        "**Optimization: Parameter tuning**\n",
        "\n",
        "Just like with polynomial, play around with the gamma parameter to get a feel of how it works"
      ]
    },
    {
      "cell_type": "code",
      "execution_count": 22,
      "metadata": {
        "id": "GPpmLI3lwVvz"
      },
      "outputs": [],
      "source": [
        "# making prediction\n",
        "y_pred = rbfclassifier.predict(X_test)"
      ]
    },
    {
      "cell_type": "code",
      "execution_count": 23,
      "metadata": {
        "id": "3UkvpTeZwclr"
      },
      "outputs": [
        {
          "name": "stdout",
          "output_type": "stream",
          "text": [
            "1.0\n",
            "[[11  0  0]\n",
            " [ 0 13  0]\n",
            " [ 0  0  6]]\n"
          ]
        }
      ],
      "source": [
        "# Model Evaluation\n",
        "print( accuracy_score(y_test, y_pred))\n",
        "print(confusion_matrix(y_test, y_pred))"
      ]
    },
    {
      "cell_type": "markdown",
      "metadata": {
        "id": "jA-gzWNCw19o"
      },
      "source": [
        "### Fitting the model: Sigmoid function"
      ]
    },
    {
      "cell_type": "code",
      "execution_count": 24,
      "metadata": {
        "id": "UUOnK1Zbw_aY"
      },
      "outputs": [
        {
          "data": {
            "text/plain": [
              "SVC(kernel='sigmoid')"
            ]
          },
          "execution_count": 24,
          "metadata": {},
          "output_type": "execute_result"
        }
      ],
      "source": [
        "# Building the model \n",
        "sigclassifier = SVC(kernel='sigmoid')\n",
        "# Training the model using the training set\n",
        "sigclassifier.fit(X_train, y_train)"
      ]
    },
    {
      "cell_type": "markdown",
      "metadata": {
        "id": "0U9zPMPTxmKB"
      },
      "source": [
        "**Visualization**"
      ]
    },
    {
      "cell_type": "code",
      "execution_count": 25,
      "metadata": {
        "colab": {
          "base_uri": "https://localhost:8080/",
          "height": 271
        },
        "id": "EREl4Klbxqe1",
        "outputId": "1612ccd9-3ea1-4610-8016-aad0a85dc3d5"
      },
      "outputs": [
        {
          "data": {
            "image/png": "[encoded data removed]",
            "text/plain": [
              "<Figure size 432x288 with 1 Axes>"
            ]
          },
          "metadata": {},
          "output_type": "display_data"
        }
      ],
      "source": [
        "# Create a mesh grid for our graph\n",
        "def make_meshgrid(x, y, h=.02):\n",
        "    x_min, x_max = x.min() - 1, x.max() + 1\n",
        "    y_min, y_max = y.min() - 1, y.max() + 1\n",
        "    xx, yy = np.meshgrid(np.arange(x_min, x_max, h), np.arange(y_min, y_max, h))\n",
        "    return xx, yy\n",
        "\n",
        "# A function that creates the hyperplanes from our model\n",
        "def plot_contours(ax, clf, xx, yy, **params):\n",
        "    Z = sigclassifier.predict(np.c_[xx.ravel(), yy.ravel()])\n",
        "    Z = Z.reshape(xx.shape)\n",
        "    out = ax.contourf(xx, yy, Z, **params)\n",
        "    return out\n",
        "\n",
        "fig, ax = plt.subplots()\n",
        "# title for the plots\n",
        "title = ('Flower Classification with sigmoid SVC')\n",
        "# Set-up grid for plotting.\n",
        "X0, X1 = X[:, 0], X[:, 1]\n",
        "xx, yy = make_meshgrid(X0, X1)\n",
        "\n",
        "plot_contours(ax, sigclassifier, xx, yy, cmap=plt.cm.cool, alpha=0.8)\n",
        "ax.scatter(X0, X1, c=y, cmap=plt.cm.cool, s=20, edgecolors='k')\n",
        "ax.set_xticks(())\n",
        "ax.set_yticks(())\n",
        "ax.set_title(title)\n",
        "plt.show()"
      ]
    },
    {
      "cell_type": "code",
      "execution_count": 26,
      "metadata": {
        "id": "RaAgBDW2yMPO"
      },
      "outputs": [],
      "source": [
        "# making prediction\n",
        "y_pred = sigclassifier.predict(X_test)"
      ]
    },
    {
      "cell_type": "code",
      "execution_count": 27,
      "metadata": {
        "colab": {
          "base_uri": "https://localhost:8080/",
          "height": 85
        },
        "id": "I4cwm_wQyRjg",
        "outputId": "7c40047e-d106-4d6c-cc36-87047e498e4a"
      },
      "outputs": [
        {
          "name": "stdout",
          "output_type": "stream",
          "text": [
            "0.8\n",
            "[[11  0  0]\n",
            " [ 0  7  6]\n",
            " [ 0  0  6]]\n"
          ]
        }
      ],
      "source": [
        "# Model Evaluation\n",
        "print( accuracy_score(y_test, y_pred))\n",
        "print(confusion_matrix(y_test, y_pred))"
      ]
    },
    {
      "cell_type": "markdown",
      "metadata": {
        "id": "ulWIXAZb0UQR"
      },
      "source": [
        "**Comparison of the Kernel Performance**\n",
        "\n",
        "When we compare the performance of the three kernel, it clear that sigmoid performs the worst. This is because the sigmoid function returns two values, 0 and 1 hence its more suited to binary classification problems.\n",
        "\n",
        "On the other hand, we can see that the rbf kernel also know as **Gaussian Kernel** achieved a 100% prediction rate. However, there is no set rule as to which kernel to use for which scenario. the rule of thumb is that you should test all kernels and select the one that performs the best on your dataset"
      ]
    },
    {
      "cell_type": "markdown",
      "metadata": {
        "id": "TU_4mYEb2k75"
      },
      "source": [
        "## <font color=green> Challenge 1</font>"
      ]
    },
    {
      "cell_type": "code",
      "execution_count": null,
      "metadata": {
        "id": "upheSbjN2vGH"
      },
      "outputs": [],
      "source": [
        "# You are given a glass dataset, use svm to classify the glasses into the following classes; 1 building_windows_float_processed -- 2 building_windows_non_float_processed -- 3 vehicle_windows_float_processed -- 4 vehicle_windows_non_float_processed (none in this database) -- 5 containers -- 6 tableware -- 7 headlamps\n",
        "# ----------------- \n",
        "# Dataset url -------> http://bit.ly/glass_classification\n",
        "# ------------------\n",
        "Your code goes here"
      ]
    },
    {
      "cell_type": "markdown",
      "metadata": {
        "id": "UOp_DedzI0eb"
      },
      "source": [
        "## <font color=green>Challenge 2</font>"
      ]
    },
    {
      "cell_type": "code",
      "execution_count": null,
      "metadata": {
        "id": "P3EKa-0aI-Go"
      },
      "outputs": [],
      "source": [
        "# Given the following dataset, classify the wine into either of the three categories\n",
        "# ---------\n",
        "# Dataset ------> http://bit.ly/wine_varieties\n",
        "# --------\n",
        "Your code goes here"
      ]
    },
    {
      "cell_type": "markdown",
      "metadata": {
        "id": "LlqoNFzoJYrp"
      },
      "source": [
        "## <font color=green>Challenge 3</font>"
      ]
    },
    {
      "cell_type": "code",
      "execution_count": null,
      "metadata": {
        "id": "Z2UH97lWJa6Y"
      },
      "outputs": [],
      "source": [
        "# Given the following dataset, use svm to classify the seed into the three categories\n",
        "# ---------------\n",
        "# Dataset url --------> http://bit.ly/seeds_dataset\n",
        "# -----------------"
      ]
    }
  ],
  "metadata": {
    "colab": {
      "name": "Python Programming: Advanced Support Vector Machine.ipynb",
      "provenance": [],
      "toc_visible": true
    },
    "interpreter": {
      "hash": "8e24f623c9d976e65e43b538ecbbc4d478524c94015e92b14b460358aba5245a"
    },
    "kernelspec": {
      "display_name": "Python 3.8.5 64-bit ('base': conda)",
      "name": "python3"
    },
    "language_info": {
      "codemirror_mode": {
        "name": "ipython",
        "version": 3
      },
      "file_extension": ".py",
      "mimetype": "text/x-python",
      "name": "python",
      "nbconvert_exporter": "python",
      "pygments_lexer": "ipython3",
      "version": "3.8.5"
    }
  },
  "nbformat": 4,
  "nbformat_minor": 0
}
